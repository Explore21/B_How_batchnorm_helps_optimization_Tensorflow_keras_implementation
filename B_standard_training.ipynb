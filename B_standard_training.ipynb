{
 "cells": [
  {
   "cell_type": "code",
   "execution_count": 45,
   "metadata": {},
   "outputs": [],
   "source": [
    "#from keras.preprocessing.image import ImageDataGenerator\n",
    "from keras.models import Sequential, load_model\n",
    "from keras.layers import Conv2D, MaxPooling2D\n",
    "from keras.layers import Activation, Dropout, Flatten, Dense, Lambda, Multiply\n",
    "from keras import backend as K\n",
    "import cv2, numpy as np\n",
    "import glob\n",
    "from keras.optimizers import SGD, Adam\n",
    "from keras.activations import relu \n",
    "import keras as keras\n",
    "from keras.models import Model\n",
    "from keras.layers import  Input,Conv2D,BatchNormalization,Activation,Lambda,Subtract,concatenate,Add,merge,add\n",
    "\n",
    "from keras.layers import Input, concatenate, Conv2D, MaxPooling2D, Conv2DTranspose,DepthwiseConv2D\n",
    "from keras.optimizers import Adam\n",
    "from keras.callbacks import ModelCheckpoint\n",
    "from keras import backend as K\n",
    "img_width, img_height = 640, 480\n",
    "import os\n",
    "from keras.callbacks import ModelCheckpoint, LearningRateScheduler\n",
    "from keras.callbacks import ReduceLROnPlateau\n",
    "from keras.callbacks import EarlyStopping \n",
    "from keras.callbacks import EarlyStopping, ModelCheckpoint, TensorBoard\n",
    "from  sklearn.model_selection import train_test_split\n",
    "\n",
    "#from tensorflow.python import debug as tf_debug\n",
    "import imageio\n",
    "import glob\n",
    "from skimage import transform as tf\n",
    "\n",
    "from scipy import ndimage\n",
    "import matplotlib.pyplot as plt\n",
    "import matplotlib.image as plt_img\n",
    "import scipy\n",
    "import scipy\n",
    "import skimage\n",
    "import re\n",
    "#import LRFinder\n",
    "import math as m\n",
    "import tensorflow as tf \n",
    "from keras.callbacks import ModelCheckpoint, ReduceLROnPlateau, LearningRateScheduler \n",
    "from keras import backend as K\n",
    "from pathlib import Path\n",
    " \n",
    "from keras import optimizers\n",
    "\n",
    "import numpy as np\n",
    " \n",
    "from keras import backend as K\n",
    "from skimage.measure import compare_ssim, compare_psnr\n",
    "\n",
    "import cv2\n",
    "import numpy as np\n",
    "import matplotlib\n",
    "from matplotlib import pyplot as plt\n",
    "\n",
    "tf.random.Generator = None \n",
    "import tensorflow_addons as tfa\n",
    " "
   ]
  },
  {
   "cell_type": "code",
   "execution_count": 2,
   "metadata": {},
   "outputs": [],
   "source": [
    "#from classifiers.vgg import VGGNet "
   ]
  },
  {
   "cell_type": "code",
   "execution_count": 3,
   "metadata": {},
   "outputs": [],
   "source": [
    "from keras.datasets import cifar10\n",
    "from keras.preprocessing.image import ImageDataGenerator\n",
    "from keras.utils import to_categorical\n",
    "from keras.models import Sequential"
   ]
  },
  {
   "cell_type": "code",
   "execution_count": 4,
   "metadata": {},
   "outputs": [
    {
     "name": "stdout",
     "output_type": "stream",
     "text": [
      "x_train shape: (50000, 32, 32, 3)\n",
      "50000 train samples\n",
      "10000 test samples\n"
     ]
    }
   ],
   "source": [
    "num_classes = 10\n",
    "\n",
    "# The data, split between train and test sets:\n",
    "(x_train, y_train), (x_test, y_test) = cifar10.load_data()\n",
    "print('x_train shape:', x_train.shape)\n",
    "print(x_train.shape[0], 'train samples')\n",
    "print(x_test.shape[0], 'test samples')\n",
    "\n",
    "# Convert class vectors to binary class matrices.\n",
    "y_train = to_categorical(y_train, num_classes)\n",
    "y_test = to_categorical(y_test, num_classes)\n",
    "x_train = x_train.astype('float32')\n",
    "x_test = x_test.astype('float32')\n",
    "x_train /= 255.\n",
    "x_test /= 255."
   ]
  },
  {
   "cell_type": "code",
   "execution_count": 5,
   "metadata": {},
   "outputs": [],
   "source": [
    "import os\n",
    "\n",
    "from keras.models import Model\n",
    "from keras.layers import Dense, Input, Conv2D, MaxPooling2D, GlobalAveragePooling2D, GlobalMaxPooling2D\n",
    "from keras import backend as K\n",
    "\n",
    "def conv_block(units, dropout=0.2, activation='relu', block=1, layer=1):\n",
    "\n",
    "    def layer_wrapper(inp):\n",
    "        x = Conv2D(units, (3, 3), padding='same', name='block{}_conv{}'.format(block, layer))(inp)\n",
    "        x = BatchNormalization(name='block{}_bn{}'.format(block, layer))(x)\n",
    "        x = Activation(activation, name='block{}_act{}'.format(block, layer))(x)\n",
    "        x = Dropout(dropout, name='block{}_dropout{}'.format(block, layer))(x)\n",
    "        return x\n",
    "\n",
    "    return layer_wrapper\n",
    "\n",
    "def dense_block(units, dropout=0.2, activation='relu', name='fc1'):\n",
    "\n",
    "    def layer_wrapper(inp):\n",
    "        x = Dense(units, name=name)(inp)\n",
    "        x = BatchNormalization(name='{}_bn'.format(name))(x)\n",
    "        x = Activation(activation, name='{}_act'.format(name))(x)\n",
    "        x = Dropout(dropout, name='{}_dropout'.format(name))(x)\n",
    "        return x\n",
    "\n",
    "    return layer_wrapper\n",
    "        \n",
    "\n",
    "def VGG16_wBN(input_tensor=None, input_shape=None, classes=1000, conv_dropout=0.1, dropout=0.3, activation='relu'):\n",
    "    \"\"\"Instantiates the VGG16 architecture with Batch Normalization\n",
    "    # Arguments\n",
    "        input_tensor: Keras tensor (i.e. output of `layers.Input()`) to use as image input for the model.\n",
    "        input_shape: shape tuple\n",
    "        classes: optional number of classes to classify images\n",
    "    # Returns\n",
    "        A Keras model instance.\n",
    "    \"\"\"\n",
    "    img_input = Input(shape=input_shape) if input_tensor is None else (\n",
    "        Input(tensor=input_tensor, shape=input_shape) if not K.is_keras_tensor(input_tensor) else input_tensor\n",
    "    )\n",
    "\n",
    "    # Block 1\n",
    "    x = conv_block(32, dropout=conv_dropout, activation=activation, block=1, layer=1)(img_input)\n",
    "    x = conv_block(32, dropout=conv_dropout, activation=activation, block=1, layer=2)(x)\n",
    "    x = MaxPooling2D((2, 2), strides=(2, 2), name='block1_pool')(x)\n",
    "\n",
    "    # Block 2\n",
    "    x = conv_block(64, dropout=conv_dropout, activation=activation, block=2, layer=1)(x)\n",
    "    x = conv_block(64, dropout=conv_dropout, activation=activation, block=2, layer=2)(x)\n",
    "    x = MaxPooling2D((2, 2), strides=(2, 2), name='block2_pool')(x)\n",
    "\n",
    "    # Block 3\n",
    "    x = conv_block(128, dropout=conv_dropout, activation=activation, block=3, layer=1)(x)\n",
    "    x = conv_block(128, dropout=conv_dropout, activation=activation, block=3, layer=2)(x)\n",
    "    x = conv_block(128, dropout=conv_dropout, activation=activation, block=3, layer=3)(x)\n",
    "    x = MaxPooling2D((2, 2), strides=(2, 2), name='block3_pool')(x)\n",
    "\n",
    "    # Block 4\n",
    "    x = conv_block(256, dropout=conv_dropout, activation=activation, block=4, layer=1)(x)\n",
    "    x = conv_block(256, dropout=conv_dropout, activation=activation, block=4, layer=2)(x)\n",
    "    x = conv_block(256, dropout=conv_dropout, activation=activation, block=4, layer=3)(x)\n",
    "    x = MaxPooling2D((2, 2), strides=(2, 2), name='block4_pool')(x)\n",
    "\n",
    "    # Block 5\n",
    "    x = conv_block(256, dropout=conv_dropout, activation=activation, block=5, layer=1)(x)\n",
    "    x = conv_block(256, dropout=conv_dropout, activation=activation, block=5, layer=2)(x)\n",
    "    x = conv_block(256, dropout=conv_dropout, activation=activation, block=5, layer=3)(x)\n",
    "    x = MaxPooling2D((2, 2), strides=(2, 2), name='block5_pool')(x)\n",
    "\n",
    "    # Flatten\n",
    "    x = GlobalAveragePooling2D()(x)\n",
    "\n",
    "    # FC Layers\n",
    "    x = dense_block(512, dropout=dropout, activation=activation, name='fc1')(x)\n",
    "    x = dense_block(512, dropout=dropout, activation=activation, name='fc2')(x)\n",
    "    \n",
    "    # Classification block    \n",
    "    x = Dense(classes, activation='softmax', name='predictions')(x)\n",
    "\n",
    "    # Ensure that the model takes into account any potential predecessors of `input_tensor`.\n",
    "    inputs = get_source_inputs(input_tensor) if input_tensor is not None else img_input\n",
    "\n",
    "    # Create model.\n",
    "    return Model(inputs, x, name='vgg16_bn')"
   ]
  },
  {
   "cell_type": "code",
   "execution_count": 6,
   "metadata": {},
   "outputs": [],
   "source": [
    "from vgg_bn   import VGG16_BN\n",
    "from vgg_wbn  import VGG16_wBN  \n",
    " "
   ]
  },
  {
   "cell_type": "code",
   "execution_count": 7,
   "metadata": {},
   "outputs": [],
   "source": [
    " \n",
    "weight_decay = 1e-4\n",
    "lr = 1e-1\n",
    "num_classes = 10\n",
    "model = VGG16_wBN(input_tensor=None, input_shape=x_train.shape[1:], classes=num_classes, conv_dropout=0.1, dropout=0.3, activation='relu')\n"
   ]
  },
  {
   "cell_type": "code",
   "execution_count": 8,
   "metadata": {},
   "outputs": [],
   "source": [
    "datagen = ImageDataGenerator(\n",
    "    rotation_range=15,\n",
    "    width_shift_range=0.1,\n",
    "    height_shift_range=0.1,\n",
    "    horizontal_flip=True,\n",
    "    )\n",
    "datagen.fit(x_train)\n",
    "BATCHSIZE = 128\n",
    "it_train = datagen.flow(x_train, y_train, batch_size=64)\n",
    "steps = int(x_train.shape[0] / BATCHSIZE) "
   ]
  },
  {
   "cell_type": "code",
   "execution_count": 9,
   "metadata": {},
   "outputs": [],
   "source": [
    "early_stopping = EarlyStopping(monitor='val_loss', min_delta=0.001, patience=5, verbose=0, mode='auto', baseline=None, restore_best_weights=True)\n",
    "\n",
    "\n",
    "filepath=\"Bv.hdf5\"\n",
    "checkpoint = ModelCheckpoint(filepath=filepath,\n",
    "                             monitor='val_acc',\n",
    "                             verbose=1,\n",
    "                             save_best_only=True)\n",
    "\n",
    "#lr_scheduler = LearningRateScheduler(lr_scheduler)\n",
    "\n",
    "lr_reducer = ReduceLROnPlateau(factor=np.sqrt(0.1),\n",
    "                               cooldown=0,\n",
    "                               patience=5,\n",
    "                               min_lr=0.5e-6)\n",
    "\n",
    "callbacks = [checkpoint  ]"
   ]
  },
  {
   "cell_type": "markdown",
   "metadata": {},
   "source": [
    "## Model Without Batch_norm"
   ]
  },
  {
   "cell_type": "code",
   "execution_count": 10,
   "metadata": {},
   "outputs": [
    {
     "name": "stdout",
     "output_type": "stream",
     "text": [
      "Epoch 1/25\n",
      "390/390 [==============================] - 13s 34ms/step - loss: 2.2007 - accuracy: 0.1815 - val_loss: 3.1299 - val_accuracy: 0.1006\n",
      "Epoch 2/25\n",
      "  7/390 [..............................] - ETA: 9s - loss: 2.0593 - accuracy: 0.2031"
     ]
    },
    {
     "name": "stderr",
     "output_type": "stream",
     "text": [
      "C:\\Users\\compu\\Anaconda3\\envs\\Bdeep\\lib\\site-packages\\keras\\callbacks\\callbacks.py:707: RuntimeWarning: Can save best model only with val_acc available, skipping.\n",
      "  'skipping.' % (self.monitor), RuntimeWarning)\n"
     ]
    },
    {
     "name": "stdout",
     "output_type": "stream",
     "text": [
      "390/390 [==============================] - 10s 27ms/step - loss: 1.9926 - accuracy: 0.2038 - val_loss: 2.5477 - val_accuracy: 0.1171\n",
      "Epoch 3/25\n",
      "390/390 [==============================] - 11s 27ms/step - loss: 1.9385 - accuracy: 0.2104 - val_loss: 1.9444 - val_accuracy: 0.1989\n",
      "Epoch 4/25\n",
      "390/390 [==============================] - 10s 27ms/step - loss: 1.9162 - accuracy: 0.2167 - val_loss: 1.9972 - val_accuracy: 0.1915\n",
      "Epoch 5/25\n",
      "390/390 [==============================] - 11s 27ms/step - loss: 1.8966 - accuracy: 0.2276 - val_loss: 1.8608 - val_accuracy: 0.2219\n",
      "Epoch 6/25\n",
      "390/390 [==============================] - 10s 27ms/step - loss: 1.8874 - accuracy: 0.2308 - val_loss: 1.8552 - val_accuracy: 0.2450\n",
      "Epoch 7/25\n",
      "390/390 [==============================] - 11s 28ms/step - loss: 1.8749 - accuracy: 0.2339 - val_loss: 1.8419 - val_accuracy: 0.2465\n",
      "Epoch 8/25\n",
      "390/390 [==============================] - 11s 27ms/step - loss: 1.8488 - accuracy: 0.2359 - val_loss: 1.9163 - val_accuracy: 0.2270\n",
      "Epoch 9/25\n",
      "390/390 [==============================] - 11s 27ms/step - loss: 1.8375 - accuracy: 0.2481 - val_loss: 1.8218 - val_accuracy: 0.2494\n",
      "Epoch 10/25\n",
      "390/390 [==============================] - 11s 27ms/step - loss: 1.8184 - accuracy: 0.2622 - val_loss: 1.7416 - val_accuracy: 0.2985\n",
      "Epoch 11/25\n",
      "390/390 [==============================] - 11s 27ms/step - loss: 1.7984 - accuracy: 0.2734 - val_loss: 1.8154 - val_accuracy: 0.2743\n",
      "Epoch 12/25\n",
      "390/390 [==============================] - 11s 27ms/step - loss: 1.7849 - accuracy: 0.2820 - val_loss: 1.7564 - val_accuracy: 0.2828\n",
      "Epoch 13/25\n",
      "390/390 [==============================] - 11s 28ms/step - loss: 1.7698 - accuracy: 0.2904 - val_loss: 1.7982 - val_accuracy: 0.2755\n",
      "Epoch 14/25\n",
      "390/390 [==============================] - 11s 27ms/step - loss: 1.7481 - accuracy: 0.3041 - val_loss: 1.7213 - val_accuracy: 0.3086\n",
      "Epoch 15/25\n",
      "390/390 [==============================] - 11s 28ms/step - loss: 1.7392 - accuracy: 0.3016 - val_loss: 1.7290 - val_accuracy: 0.2906\n",
      "Epoch 16/25\n",
      "390/390 [==============================] - 11s 27ms/step - loss: 1.7162 - accuracy: 0.3151 - val_loss: 1.6278 - val_accuracy: 0.3566\n",
      "Epoch 17/25\n",
      "390/390 [==============================] - 11s 28ms/step - loss: 1.7049 - accuracy: 0.3202 - val_loss: 1.6736 - val_accuracy: 0.3349\n",
      "Epoch 18/25\n",
      "390/390 [==============================] - 11s 27ms/step - loss: 1.6681 - accuracy: 0.3304 - val_loss: 1.5505 - val_accuracy: 0.3790\n",
      "Epoch 19/25\n",
      "390/390 [==============================] - 11s 28ms/step - loss: 1.5715 - accuracy: 0.3703 - val_loss: 1.4709 - val_accuracy: 0.4172\n",
      "Epoch 20/25\n",
      "390/390 [==============================] - 11s 27ms/step - loss: 1.5350 - accuracy: 0.4000 - val_loss: 1.4853 - val_accuracy: 0.4155\n",
      "Epoch 21/25\n",
      "390/390 [==============================] - 11s 27ms/step - loss: 1.4992 - accuracy: 0.4232 - val_loss: 1.4872 - val_accuracy: 0.4145\n",
      "Epoch 22/25\n",
      "390/390 [==============================] - 11s 27ms/step - loss: 1.4684 - accuracy: 0.4373 - val_loss: 1.5725 - val_accuracy: 0.3864\n",
      "Epoch 23/25\n",
      "390/390 [==============================] - 11s 27ms/step - loss: 1.4468 - accuracy: 0.4494 - val_loss: 1.3177 - val_accuracy: 0.5047\n",
      "Epoch 24/25\n",
      "390/390 [==============================] - 11s 27ms/step - loss: 1.4275 - accuracy: 0.4680 - val_loss: 1.3901 - val_accuracy: 0.4958\n",
      "Epoch 25/25\n",
      "390/390 [==============================] - 11s 28ms/step - loss: 1.3955 - accuracy: 0.4837 - val_loss: 1.3314 - val_accuracy: 0.4951\n"
     ]
    }
   ],
   "source": [
    "#optimizer = Adam(lr= 1e-3)\n",
    "\n",
    "\n",
    "lra=[5e-3,1e-3,5e-4,1e-4]\n",
    "\n",
    "ep=25\n",
    "optimizer = Adam(lr= lra[0])\n",
    "model.compile(optimizer, loss='categorical_crossentropy', metrics=['accuracy'])\n",
    "h1=model.fit(it_train,steps_per_epoch=steps,epochs=ep, validation_data=(x_test, y_test), callbacks = [checkpoint ]) \n",
    " "
   ]
  },
  {
   "cell_type": "code",
   "execution_count": 11,
   "metadata": {},
   "outputs": [],
   "source": [
    "import matplotlib.pyplot as plt\n",
    "\n",
    "def plot_history(history):\n",
    "    plt.plot(history.history[\"loss\"], label=\"Training Loss\")\n",
    "    plt.plot(history.history[\"val_loss\"], label=\"Validation Loss\")\n",
    "    plt.plot(history.history[\"accuracy\"], label=\"Training Accuracy\")\n",
    "    plt.plot(history.history[\"val_accuracy\"], label=\"Validation Accuracy\")\n",
    "    plt.legend()\n",
    "    plt.grid()\n",
    "    plt.show()"
   ]
  },
  {
   "cell_type": "code",
   "execution_count": null,
   "metadata": {},
   "outputs": [],
   "source": [
    " "
   ]
  },
  {
   "cell_type": "code",
   "execution_count": null,
   "metadata": {},
   "outputs": [],
   "source": [
    " "
   ]
  },
  {
   "cell_type": "code",
   "execution_count": null,
   "metadata": {},
   "outputs": [],
   "source": [
    " "
   ]
  },
  {
   "cell_type": "code",
   "execution_count": null,
   "metadata": {},
   "outputs": [],
   "source": [
    " "
   ]
  },
  {
   "cell_type": "code",
   "execution_count": null,
   "metadata": {},
   "outputs": [],
   "source": [
    " "
   ]
  },
  {
   "cell_type": "code",
   "execution_count": null,
   "metadata": {},
   "outputs": [],
   "source": [
    " "
   ]
  },
  {
   "cell_type": "code",
   "execution_count": null,
   "metadata": {},
   "outputs": [],
   "source": [
    " "
   ]
  },
  {
   "cell_type": "markdown",
   "metadata": {},
   "source": [
    "## Model With Batch_norm\n"
   ]
  },
  {
   "cell_type": "code",
   "execution_count": 12,
   "metadata": {},
   "outputs": [],
   "source": [
    "model = VGG16_BN(input_tensor=None, input_shape=x_train.shape[1:], classes=num_classes, conv_dropout=0.1, dropout=0.3, activation='relu')"
   ]
  },
  {
   "cell_type": "code",
   "execution_count": 13,
   "metadata": {},
   "outputs": [
    {
     "name": "stdout",
     "output_type": "stream",
     "text": [
      "Epoch 1/25\n",
      "390/390 [==============================] - 22s 57ms/step - loss: 2.2374 - accuracy: 0.1765 - val_loss: 2.2683 - val_accuracy: 0.1225\n",
      "Epoch 2/25\n",
      "  3/390 [..............................] - ETA: 16s - loss: 2.1875 - accuracy: 0.1927"
     ]
    },
    {
     "name": "stderr",
     "output_type": "stream",
     "text": [
      "C:\\Users\\compu\\Anaconda3\\envs\\Bdeep\\lib\\site-packages\\keras\\callbacks\\callbacks.py:707: RuntimeWarning: Can save best model only with val_acc available, skipping.\n",
      "  'skipping.' % (self.monitor), RuntimeWarning)\n"
     ]
    },
    {
     "name": "stdout",
     "output_type": "stream",
     "text": [
      "390/390 [==============================] - 18s 47ms/step - loss: 2.0540 - accuracy: 0.2329 - val_loss: 2.8126 - val_accuracy: 0.1361\n",
      "Epoch 3/25\n",
      "390/390 [==============================] - 18s 47ms/step - loss: 1.8798 - accuracy: 0.2890 - val_loss: 2.0864 - val_accuracy: 0.2527\n",
      "Epoch 4/25\n",
      "390/390 [==============================] - 18s 47ms/step - loss: 1.7308 - accuracy: 0.3458 - val_loss: 2.1413 - val_accuracy: 0.2463\n",
      "Epoch 5/25\n",
      "390/390 [==============================] - 19s 48ms/step - loss: 1.5926 - accuracy: 0.3971 - val_loss: 1.5410 - val_accuracy: 0.4052\n",
      "Epoch 6/25\n",
      "390/390 [==============================] - 18s 47ms/step - loss: 1.4925 - accuracy: 0.4344 - val_loss: 1.5742 - val_accuracy: 0.4066\n",
      "Epoch 7/25\n",
      "390/390 [==============================] - 19s 47ms/step - loss: 1.4173 - accuracy: 0.4741 - val_loss: 1.5482 - val_accuracy: 0.4509\n",
      "Epoch 8/25\n",
      "390/390 [==============================] - 19s 48ms/step - loss: 1.3220 - accuracy: 0.5247 - val_loss: 1.6286 - val_accuracy: 0.4279\n",
      "Epoch 9/25\n",
      "390/390 [==============================] - 18s 47ms/step - loss: 1.2398 - accuracy: 0.5624 - val_loss: 1.2453 - val_accuracy: 0.5708\n",
      "Epoch 10/25\n",
      "390/390 [==============================] - 18s 47ms/step - loss: 1.1708 - accuracy: 0.5895 - val_loss: 1.8911 - val_accuracy: 0.4108\n",
      "Epoch 11/25\n",
      "390/390 [==============================] - 18s 47ms/step - loss: 1.1058 - accuracy: 0.6152 - val_loss: 1.2737 - val_accuracy: 0.5760\n",
      "Epoch 12/25\n",
      "390/390 [==============================] - 18s 47ms/step - loss: 1.0441 - accuracy: 0.6411 - val_loss: 1.0779 - val_accuracy: 0.6196\n",
      "Epoch 13/25\n",
      "390/390 [==============================] - 18s 47ms/step - loss: 1.0001 - accuracy: 0.6557 - val_loss: 1.1331 - val_accuracy: 0.6171\n",
      "Epoch 14/25\n",
      "390/390 [==============================] - 18s 46ms/step - loss: 0.9660 - accuracy: 0.6702 - val_loss: 0.9268 - val_accuracy: 0.6859\n",
      "Epoch 15/25\n",
      "390/390 [==============================] - 18s 47ms/step - loss: 0.9166 - accuracy: 0.6874 - val_loss: 0.8925 - val_accuracy: 0.6945\n",
      "Epoch 16/25\n",
      "390/390 [==============================] - 18s 47ms/step - loss: 0.8922 - accuracy: 0.6988 - val_loss: 0.8372 - val_accuracy: 0.7173\n",
      "Epoch 17/25\n",
      "390/390 [==============================] - 18s 47ms/step - loss: 0.8534 - accuracy: 0.7149 - val_loss: 0.8324 - val_accuracy: 0.7086\n",
      "Epoch 18/25\n",
      "390/390 [==============================] - 18s 47ms/step - loss: 0.8311 - accuracy: 0.7233 - val_loss: 0.8920 - val_accuracy: 0.7055\n",
      "Epoch 19/25\n",
      "390/390 [==============================] - 18s 47ms/step - loss: 0.8139 - accuracy: 0.7329 - val_loss: 0.7727 - val_accuracy: 0.7336\n",
      "Epoch 20/25\n",
      "390/390 [==============================] - 18s 47ms/step - loss: 0.7747 - accuracy: 0.7445 - val_loss: 0.7375 - val_accuracy: 0.7542\n",
      "Epoch 21/25\n",
      "390/390 [==============================] - 18s 47ms/step - loss: 0.7536 - accuracy: 0.7507 - val_loss: 0.8906 - val_accuracy: 0.7111\n",
      "Epoch 22/25\n",
      "390/390 [==============================] - 18s 47ms/step - loss: 0.7457 - accuracy: 0.7559 - val_loss: 0.7950 - val_accuracy: 0.7399\n",
      "Epoch 23/25\n",
      "390/390 [==============================] - 18s 47ms/step - loss: 0.7084 - accuracy: 0.7661 - val_loss: 0.8111 - val_accuracy: 0.7380\n",
      "Epoch 24/25\n",
      "390/390 [==============================] - 18s 47ms/step - loss: 0.6989 - accuracy: 0.7725 - val_loss: 0.8669 - val_accuracy: 0.7147\n",
      "Epoch 25/25\n",
      "390/390 [==============================] - 18s 47ms/step - loss: 0.6853 - accuracy: 0.7769 - val_loss: 0.8651 - val_accuracy: 0.7220\n"
     ]
    }
   ],
   "source": [
    "#optimizer = Adam(lr= 1e-3)\n",
    "\n",
    "\n",
    "lra=[5e-3,1e-3,5e-4,1e-4]\n",
    "\n",
    " \n",
    "optimizer = Adam(lr= lra[0])\n",
    "model.compile(optimizer, loss='categorical_crossentropy', metrics=['accuracy'])\n",
    "hb1=model.fit(it_train,steps_per_epoch=steps,epochs=ep, validation_data=(x_test, y_test), callbacks = [checkpoint ]) \n",
    "\n",
    "  \n"
   ]
  },
  {
   "cell_type": "code",
   "execution_count": null,
   "metadata": {},
   "outputs": [],
   "source": [
    " "
   ]
  },
  {
   "cell_type": "code",
   "execution_count": null,
   "metadata": {},
   "outputs": [],
   "source": [
    "plt.savefig(os.path.join(figures_path, 'loss_landscape.png'), dpi=500, quality=100) "
   ]
  },
  {
   "cell_type": "code",
   "execution_count": 78,
   "metadata": {},
   "outputs": [],
   "source": [
    "[tl,vl,ta,va]=[h1.history[\"loss\"],h1.history[\"val_loss\"],h1.history[\"accuracy\"],h1.history[\"val_accuracy\"]]\n",
    "[tbl,vbl,tba,vba]=[hb1.history[\"loss\"],hb1.history[\"val_loss\"],hb1.history[\"accuracy\"],hb1.history[\"val_accuracy\"]]\n",
    "figures_path='fig/'\n"
   ]
  },
  {
   "cell_type": "code",
   "execution_count": 79,
   "metadata": {},
   "outputs": [
    {
     "name": "stderr",
     "output_type": "stream",
     "text": [
      "C:\\Users\\compu\\Anaconda3\\envs\\Bdeep\\lib\\site-packages\\ipykernel_launcher.py:9: MatplotlibDeprecationWarning: savefig() got unexpected keyword argument \"quality\" which is no longer supported as of 3.3 and will become an error two minor releases later\n",
      "  if __name__ == '__main__':\n"
     ]
    },
    {
     "data": {
      "image/png": "[encoded data removed]",
      "text/plain": [
       "<Figure size 936x504 with 1 Axes>"
      ]
     },
     "metadata": {
      "needs_background": "light"
     },
     "output_type": "display_data"
    }
   ],
   "source": [
    "plt.figure(figsize=(13, 7))\n",
    "x = np.linspace(0, .5, len(tl))\n",
    "\n",
    "\n",
    "plt.plot(x, tba, label='Tr_acc_batch_norm')   \n",
    "plt.plot(x, ta, label='Tr_acc_no_batch_norm')   \n",
    "plt.plot(x, tbl, label='tr_Loss_batch_norm')  \n",
    "plt.plot(x, tl, label='tr_Loss_no_batch_normc')  \n",
    "plt.legend(fontsize=10)    \n",
    "plt.title(\"Comparaision between the Batch_norm/Without_Batch_norm\")   \n",
    "plt.savefig(os.path.join(figures_path, 'Standard Training.png'), dpi=500, quality=100) \n"
   ]
  },
  {
   "cell_type": "code",
   "execution_count": 80,
   "metadata": {},
   "outputs": [
    {
     "name": "stderr",
     "output_type": "stream",
     "text": [
      "C:\\Users\\compu\\Anaconda3\\envs\\Bdeep\\lib\\site-packages\\ipykernel_launcher.py:10: MatplotlibDeprecationWarning: savefig() got unexpected keyword argument \"quality\" which is no longer supported as of 3.3 and will become an error two minor releases later\n",
      "  # Remove the CWD from sys.path while we load stuff.\n"
     ]
    },
    {
     "data": {
      "image/png": "[encoded data removed]",
      "text/plain": [
       "<Figure size 936x504 with 1 Axes>"
      ]
     },
     "metadata": {
      "needs_background": "light"
     },
     "output_type": "display_data"
    }
   ],
   "source": [
    "plt.figure(figsize=(13, 7))\n",
    "x = np.linspace(0, .5, len(tl))\n",
    "   \n",
    "plt.plot(x, vba, label='vl_acc_batch_norm')   \n",
    "plt.plot(x, va, label='vl_acc_no_batch_norm')   \n",
    "plt.plot(x, vbl, label='vl_Loss_batch_norm')  \n",
    "plt.plot(x, vl, label='vl_Loss_no_batch_normc')  \n",
    "plt.legend(fontsize=10)    \n",
    "plt.title(\"Comparaision between the Batch_norm/Without_Batch_norm\")   \n",
    "plt.savefig(os.path.join(figures_path, 'Standard validation.png'), dpi=500, quality=100)  "
   ]
  },
  {
   "cell_type": "code",
   "execution_count": 14,
   "metadata": {},
   "outputs": [],
   "source": [
    " "
   ]
  },
  {
   "cell_type": "code",
   "execution_count": null,
   "metadata": {},
   "outputs": [],
   "source": []
  }
 ],
 "metadata": {
  "kernelspec": {
   "display_name": "Python [conda env:Bdeep] *",
   "language": "python",
   "name": "conda-env-Bdeep-py"
  },
  "language_info": {
   "codemirror_mode": {
    "name": "ipython",
    "version": 3
   },
   "file_extension": ".py",
   "mimetype": "text/x-python",
   "name": "python",
   "nbconvert_exporter": "python",
   "pygments_lexer": "ipython3",
   "version": "3.7.9"
  }
 },
 "nbformat": 4,
 "nbformat_minor": 4
}
