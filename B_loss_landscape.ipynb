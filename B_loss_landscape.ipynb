{
 "cells": [
  {
   "cell_type": "code",
   "execution_count": 1,
   "metadata": {},
   "outputs": [
    {
     "name": "stderr",
     "output_type": "stream",
     "text": [
      "Using TensorFlow backend.\n"
     ]
    }
   ],
   "source": [
    "#from keras.preprocessing.image import ImageDataGenerator\n",
    "from keras.models import Sequential, load_model\n",
    "from keras.layers import Conv2D, MaxPooling2D\n",
    "from keras.layers import Activation, Dropout, Flatten, Dense, Lambda, Multiply\n",
    "from keras import backend as K\n",
    "import cv2, numpy as np\n",
    "import glob\n",
    "from keras.optimizers import SGD, Adam\n",
    "from keras.activations import relu \n",
    "import keras as keras\n",
    "from keras.models import Model\n",
    "from keras.layers import  Input,Conv2D,BatchNormalization,Activation,Lambda,Subtract,concatenate,Add,merge,add\n",
    "\n",
    "from keras.layers import Input, concatenate, Conv2D, MaxPooling2D, Conv2DTranspose,DepthwiseConv2D\n",
    "from keras.optimizers import Adam\n",
    "from keras.callbacks import ModelCheckpoint\n",
    "from keras import backend as K\n",
    "img_width, img_height = 640, 480\n",
    "import os\n",
    "from keras.callbacks import ModelCheckpoint, LearningRateScheduler\n",
    "from keras.callbacks import ReduceLROnPlateau\n",
    "from keras.callbacks import EarlyStopping \n",
    "from keras.callbacks import EarlyStopping, ModelCheckpoint, TensorBoard\n",
    "from  sklearn.model_selection import train_test_split\n",
    "\n",
    "#from tensorflow.python import debug as tf_debug\n",
    "import imageio\n",
    "import glob\n",
    "from skimage import transform as tf\n",
    "\n",
    "from scipy import ndimage\n",
    "import matplotlib.pyplot as plt\n",
    "import matplotlib.image as plt_img\n",
    "import scipy\n",
    "import scipy\n",
    "import skimage\n",
    "import re\n",
    "#import LRFinder\n",
    "import math as m\n",
    "import tensorflow as tf \n",
    "from keras.callbacks import ModelCheckpoint, ReduceLROnPlateau, LearningRateScheduler \n",
    "from keras import backend as K\n",
    "from pathlib import Path\n",
    " \n",
    "from keras import optimizers\n",
    "\n",
    "import numpy as np\n",
    " \n",
    "from keras import backend as K\n",
    "from skimage.measure import compare_ssim, compare_psnr\n",
    "\n",
    "import cv2\n",
    "import numpy as np\n",
    "from matplotlib import pyplot as plt\n",
    "\n",
    "tf.random.Generator = None \n",
    "import tensorflow_addons as tfa\n",
    " "
   ]
  },
  {
   "cell_type": "code",
   "execution_count": 2,
   "metadata": {},
   "outputs": [],
   "source": [
    "#from classifiers.vgg import VGGNet "
   ]
  },
  {
   "cell_type": "code",
   "execution_count": 3,
   "metadata": {},
   "outputs": [],
   "source": [
    "from keras.datasets import cifar10\n",
    "from keras.preprocessing.image import ImageDataGenerator\n",
    "from keras.utils import to_categorical\n",
    "from keras.models import Sequential"
   ]
  },
  {
   "cell_type": "code",
   "execution_count": 4,
   "metadata": {},
   "outputs": [
    {
     "name": "stdout",
     "output_type": "stream",
     "text": [
      "x_train shape: (50000, 32, 32, 3)\n",
      "50000 train samples\n",
      "10000 test samples\n"
     ]
    }
   ],
   "source": [
    "num_classes = 10\n",
    "\n",
    "# The data, split between train and test sets:\n",
    "(x_train, y_train), (x_test, y_test) = cifar10.load_data()\n",
    "print('x_train shape:', x_train.shape)\n",
    "print(x_train.shape[0], 'train samples')\n",
    "print(x_test.shape[0], 'test samples')\n",
    "\n",
    "# Convert class vectors to binary class matrices.\n",
    "y_train = to_categorical(y_train, num_classes)\n",
    "y_test = to_categorical(y_test, num_classes)\n",
    "x_train = x_train.astype('float32')\n",
    "x_test = x_test.astype('float32')\n",
    "x_train /= 255.\n",
    "x_test /= 255."
   ]
  },
  {
   "cell_type": "code",
   "execution_count": 5,
   "metadata": {},
   "outputs": [],
   "source": [
    "import os\n",
    "\n",
    "from keras.models import Model\n",
    "from keras.layers import Dense, Input, Conv2D, MaxPooling2D, GlobalAveragePooling2D, GlobalMaxPooling2D\n",
    "from keras import backend as K\n",
    "\n",
    "def conv_block(units, dropout=0.2, activation='relu', block=1, layer=1):\n",
    "\n",
    "    def layer_wrapper(inp):\n",
    "        x = Conv2D(units, (3, 3), padding='same', name='block{}_conv{}'.format(block, layer))(inp)\n",
    "        x = BatchNormalization(name='block{}_bn{}'.format(block, layer))(x)\n",
    "        x = Activation(activation, name='block{}_act{}'.format(block, layer))(x)\n",
    "        x = Dropout(dropout, name='block{}_dropout{}'.format(block, layer))(x)\n",
    "        return x\n",
    "\n",
    "    return layer_wrapper\n",
    "\n",
    "def dense_block(units, dropout=0.2, activation='relu', name='fc1'):\n",
    "\n",
    "    def layer_wrapper(inp):\n",
    "        x = Dense(units, name=name)(inp)\n",
    "        x = BatchNormalization(name='{}_bn'.format(name))(x)\n",
    "        x = Activation(activation, name='{}_act'.format(name))(x)\n",
    "        x = Dropout(dropout, name='{}_dropout'.format(name))(x)\n",
    "        return x\n",
    "\n",
    "    return layer_wrapper\n",
    "        \n",
    "\n",
    "def VGG16_wBN(input_tensor=None, input_shape=None, classes=1000, conv_dropout=0.1, dropout=0.3, activation='relu'):\n",
    "    \"\"\"Instantiates the VGG16 architecture with Batch Normalization\n",
    "    # Arguments\n",
    "        input_tensor: Keras tensor (i.e. output of `layers.Input()`) to use as image input for the model.\n",
    "        input_shape: shape tuple\n",
    "        classes: optional number of classes to classify images\n",
    "    # Returns\n",
    "        A Keras model instance.\n",
    "    \"\"\"\n",
    "    img_input = Input(shape=input_shape) if input_tensor is None else (\n",
    "        Input(tensor=input_tensor, shape=input_shape) if not K.is_keras_tensor(input_tensor) else input_tensor\n",
    "    )\n",
    "\n",
    "    # Block 1\n",
    "    x = conv_block(32, dropout=conv_dropout, activation=activation, block=1, layer=1)(img_input)\n",
    "    x = conv_block(32, dropout=conv_dropout, activation=activation, block=1, layer=2)(x)\n",
    "    x = MaxPooling2D((2, 2), strides=(2, 2), name='block1_pool')(x)\n",
    "\n",
    "    # Block 2\n",
    "    x = conv_block(64, dropout=conv_dropout, activation=activation, block=2, layer=1)(x)\n",
    "    x = conv_block(64, dropout=conv_dropout, activation=activation, block=2, layer=2)(x)\n",
    "    x = MaxPooling2D((2, 2), strides=(2, 2), name='block2_pool')(x)\n",
    "\n",
    "    # Block 3\n",
    "    x = conv_block(128, dropout=conv_dropout, activation=activation, block=3, layer=1)(x)\n",
    "    x = conv_block(128, dropout=conv_dropout, activation=activation, block=3, layer=2)(x)\n",
    "    x = conv_block(128, dropout=conv_dropout, activation=activation, block=3, layer=3)(x)\n",
    "    x = MaxPooling2D((2, 2), strides=(2, 2), name='block3_pool')(x)\n",
    "\n",
    "    # Block 4\n",
    "    x = conv_block(256, dropout=conv_dropout, activation=activation, block=4, layer=1)(x)\n",
    "    x = conv_block(256, dropout=conv_dropout, activation=activation, block=4, layer=2)(x)\n",
    "    x = conv_block(256, dropout=conv_dropout, activation=activation, block=4, layer=3)(x)\n",
    "    x = MaxPooling2D((2, 2), strides=(2, 2), name='block4_pool')(x)\n",
    "\n",
    "    # Block 5\n",
    "    x = conv_block(256, dropout=conv_dropout, activation=activation, block=5, layer=1)(x)\n",
    "    x = conv_block(256, dropout=conv_dropout, activation=activation, block=5, layer=2)(x)\n",
    "    x = conv_block(256, dropout=conv_dropout, activation=activation, block=5, layer=3)(x)\n",
    "    x = MaxPooling2D((2, 2), strides=(2, 2), name='block5_pool')(x)\n",
    "\n",
    "    # Flatten\n",
    "    x = GlobalAveragePooling2D()(x)\n",
    "\n",
    "    # FC Layers\n",
    "    x = dense_block(512, dropout=dropout, activation=activation, name='fc1')(x)\n",
    "    x = dense_block(512, dropout=dropout, activation=activation, name='fc2')(x)\n",
    "    \n",
    "    # Classification block    \n",
    "    x = Dense(classes, activation='softmax', name='predictions')(x)\n",
    "\n",
    "    # Ensure that the model takes into account any potential predecessors of `input_tensor`.\n",
    "    inputs = get_source_inputs(input_tensor) if input_tensor is not None else img_input\n",
    "\n",
    "    # Create model.\n",
    "    return Model(inputs, x, name='vgg16_bn')"
   ]
  },
  {
   "cell_type": "code",
   "execution_count": 6,
   "metadata": {},
   "outputs": [],
   "source": [
    "from vgg_bn   import VGG16_BN\n",
    "from vgg_wbn  import VGG16_wBN  \n",
    " "
   ]
  },
  {
   "cell_type": "code",
   "execution_count": 7,
   "metadata": {},
   "outputs": [],
   "source": [
    " \n",
    "weight_decay = 1e-4\n",
    "lr = 1e-1\n",
    "num_classes = 10\n",
    "model = VGG16_wBN(input_tensor=None, input_shape=x_train.shape[1:], classes=num_classes, conv_dropout=0.1, dropout=0.3, activation='relu')\n"
   ]
  },
  {
   "cell_type": "code",
   "execution_count": 8,
   "metadata": {},
   "outputs": [],
   "source": [
    "datagen = ImageDataGenerator(\n",
    "    rotation_range=15,\n",
    "    width_shift_range=0.1,\n",
    "    height_shift_range=0.1,\n",
    "    horizontal_flip=True,\n",
    "    )\n",
    "datagen.fit(x_train)\n",
    "BATCHSIZE = 128\n",
    "it_train = datagen.flow(x_train, y_train, batch_size=64)\n",
    "steps = int(x_train.shape[0] / BATCHSIZE) "
   ]
  },
  {
   "cell_type": "code",
   "execution_count": 9,
   "metadata": {},
   "outputs": [],
   "source": [
    "early_stopping = EarlyStopping(monitor='val_loss', min_delta=0.001, patience=5, verbose=0, mode='auto', baseline=None, restore_best_weights=True)\n",
    "\n",
    "\n",
    "filepath=\"Bv.hdf5\"\n",
    "checkpoint = ModelCheckpoint(filepath=filepath,\n",
    "                             monitor='val_acc',\n",
    "                             verbose=1,\n",
    "                             save_best_only=True)\n",
    "\n",
    "#lr_scheduler = LearningRateScheduler(lr_scheduler)\n",
    "\n",
    "lr_reducer = ReduceLROnPlateau(factor=np.sqrt(0.1),\n",
    "                               cooldown=0,\n",
    "                               patience=5,\n",
    "                               min_lr=0.5e-6)\n",
    "\n",
    "callbacks = [checkpoint  ]"
   ]
  },
  {
   "cell_type": "markdown",
   "metadata": {},
   "source": [
    "## Model Without Batch_norm"
   ]
  },
  {
   "cell_type": "code",
   "execution_count": 10,
   "metadata": {},
   "outputs": [
    {
     "name": "stdout",
     "output_type": "stream",
     "text": [
      "Epoch 1/15\n",
      "390/390 [==============================] - 13s 35ms/step - loss: 2.2095 - accuracy: 0.1797 - val_loss: 2.0475 - val_accuracy: 0.2081\n",
      "Epoch 2/15\n",
      "  7/390 [..............................] - ETA: 9s - loss: 2.0465 - accuracy: 0.2076"
     ]
    },
    {
     "name": "stderr",
     "output_type": "stream",
     "text": [
      "C:\\Users\\compu\\Anaconda3\\envs\\Bdeep\\lib\\site-packages\\keras\\callbacks\\callbacks.py:707: RuntimeWarning: Can save best model only with val_acc available, skipping.\n",
      "  'skipping.' % (self.monitor), RuntimeWarning)\n"
     ]
    },
    {
     "name": "stdout",
     "output_type": "stream",
     "text": [
      "390/390 [==============================] - 10s 27ms/step - loss: 2.0112 - accuracy: 0.1975 - val_loss: 2.1380 - val_accuracy: 0.1643\n",
      "Epoch 3/15\n",
      "390/390 [==============================] - 11s 28ms/step - loss: 1.9529 - accuracy: 0.2048 - val_loss: 1.9422 - val_accuracy: 0.2184\n",
      "Epoch 4/15\n",
      "390/390 [==============================] - 11s 27ms/step - loss: 1.9245 - accuracy: 0.2207 - val_loss: 1.9102 - val_accuracy: 0.2284\n",
      "Epoch 5/15\n",
      "390/390 [==============================] - 11s 28ms/step - loss: 1.9111 - accuracy: 0.2257 - val_loss: 1.8667 - val_accuracy: 0.2467\n",
      "Epoch 6/15\n",
      "390/390 [==============================] - 11s 27ms/step - loss: 1.8983 - accuracy: 0.2263 - val_loss: 1.8721 - val_accuracy: 0.2262\n",
      "Epoch 7/15\n",
      "390/390 [==============================] - 11s 28ms/step - loss: 1.8837 - accuracy: 0.2275 - val_loss: 1.9900 - val_accuracy: 0.2254\n",
      "Epoch 8/15\n",
      "390/390 [==============================] - 11s 27ms/step - loss: 1.8740 - accuracy: 0.2383 - val_loss: 2.0485 - val_accuracy: 0.1969\n",
      "Epoch 9/15\n",
      "390/390 [==============================] - 12s 30ms/step - loss: 1.8639 - accuracy: 0.2429 - val_loss: 1.8643 - val_accuracy: 0.2523\n",
      "Epoch 10/15\n",
      "390/390 [==============================] - 10s 27ms/step - loss: 1.8539 - accuracy: 0.2382 - val_loss: 1.9190 - val_accuracy: 0.2258\n",
      "Epoch 11/15\n",
      "390/390 [==============================] - 11s 28ms/step - loss: 1.8365 - accuracy: 0.2476 - val_loss: 1.8151 - val_accuracy: 0.2456\n",
      "Epoch 12/15\n",
      "390/390 [==============================] - 11s 27ms/step - loss: 1.8227 - accuracy: 0.2515 - val_loss: 1.7878 - val_accuracy: 0.2771\n",
      "Epoch 13/15\n",
      "390/390 [==============================] - 11s 28ms/step - loss: 1.8082 - accuracy: 0.2619 - val_loss: 1.7935 - val_accuracy: 0.2748\n",
      "Epoch 14/15\n",
      "390/390 [==============================] - 11s 27ms/step - loss: 1.8014 - accuracy: 0.2708 - val_loss: 1.7252 - val_accuracy: 0.2998\n",
      "Epoch 15/15\n",
      "390/390 [==============================] - 11s 28ms/step - loss: 1.7687 - accuracy: 0.2898 - val_loss: 1.6844 - val_accuracy: 0.3212\n",
      "Epoch 1/15\n",
      "390/390 [==============================] - 13s 32ms/step - loss: 1.7014 - accuracy: 0.3274 - val_loss: 1.6942 - val_accuracy: 0.3172\n",
      "Epoch 2/15\n",
      "  5/390 [..............................] - ETA: 9s - loss: 1.6872 - accuracy: 0.312"
     ]
    },
    {
     "name": "stderr",
     "output_type": "stream",
     "text": [
      "C:\\Users\\compu\\Anaconda3\\envs\\Bdeep\\lib\\site-packages\\keras\\callbacks\\callbacks.py:707: RuntimeWarning: Can save best model only with val_acc available, skipping.\n",
      "  'skipping.' % (self.monitor), RuntimeWarning)\n"
     ]
    },
    {
     "name": "stdout",
     "output_type": "stream",
     "text": [
      "390/390 [==============================] - 11s 28ms/step - loss: 1.6990 - accuracy: 0.3275 - val_loss: 1.6475 - val_accuracy: 0.3346\n",
      "Epoch 3/15\n",
      "390/390 [==============================] - 11s 28ms/step - loss: 1.6804 - accuracy: 0.3327 - val_loss: 1.6643 - val_accuracy: 0.3205\n",
      "Epoch 4/15\n",
      "390/390 [==============================] - 11s 28ms/step - loss: 1.6717 - accuracy: 0.3336 - val_loss: 1.6787 - val_accuracy: 0.3148\n",
      "Epoch 5/15\n",
      "390/390 [==============================] - 11s 29ms/step - loss: 1.6620 - accuracy: 0.3408 - val_loss: 1.5933 - val_accuracy: 0.3654\n",
      "Epoch 6/15\n",
      "390/390 [==============================] - 11s 28ms/step - loss: 1.6562 - accuracy: 0.3417 - val_loss: 1.6691 - val_accuracy: 0.3212\n",
      "Epoch 7/15\n",
      "390/390 [==============================] - 11s 29ms/step - loss: 1.6486 - accuracy: 0.3482 - val_loss: 1.6487 - val_accuracy: 0.3387\n",
      "Epoch 8/15\n",
      "390/390 [==============================] - 11s 28ms/step - loss: 1.6491 - accuracy: 0.3511 - val_loss: 1.6252 - val_accuracy: 0.3419\n",
      "Epoch 9/15\n",
      "390/390 [==============================] - 11s 28ms/step - loss: 1.6437 - accuracy: 0.3512 - val_loss: 1.6013 - val_accuracy: 0.3654\n",
      "Epoch 10/15\n",
      "390/390 [==============================] - 11s 28ms/step - loss: 1.6363 - accuracy: 0.3469 - val_loss: 1.6257 - val_accuracy: 0.3453\n",
      "Epoch 11/15\n",
      "390/390 [==============================] - 11s 29ms/step - loss: 1.6276 - accuracy: 0.3513 - val_loss: 1.6529 - val_accuracy: 0.3373\n",
      "Epoch 12/15\n",
      "390/390 [==============================] - 11s 28ms/step - loss: 1.6215 - accuracy: 0.3588 - val_loss: 1.5960 - val_accuracy: 0.3476\n",
      "Epoch 13/15\n",
      "390/390 [==============================] - 11s 28ms/step - loss: 1.6106 - accuracy: 0.3664 - val_loss: 1.5563 - val_accuracy: 0.3823\n",
      "Epoch 14/15\n",
      "390/390 [==============================] - 11s 28ms/step - loss: 1.6191 - accuracy: 0.3612 - val_loss: 1.5517 - val_accuracy: 0.3906\n",
      "Epoch 15/15\n",
      "390/390 [==============================] - 11s 29ms/step - loss: 1.6005 - accuracy: 0.3670 - val_loss: 1.6228 - val_accuracy: 0.3649\n",
      "Epoch 1/15\n",
      "390/390 [==============================] - 13s 32ms/step - loss: 1.5884 - accuracy: 0.3761 - val_loss: 1.5972 - val_accuracy: 0.3451\n",
      "Epoch 2/15\n",
      "  5/390 [..............................] - ETA: 9s - loss: 1.4614 - accuracy: 0.40"
     ]
    },
    {
     "name": "stderr",
     "output_type": "stream",
     "text": [
      "C:\\Users\\compu\\Anaconda3\\envs\\Bdeep\\lib\\site-packages\\keras\\callbacks\\callbacks.py:707: RuntimeWarning: Can save best model only with val_acc available, skipping.\n",
      "  'skipping.' % (self.monitor), RuntimeWarning)\n"
     ]
    },
    {
     "name": "stdout",
     "output_type": "stream",
     "text": [
      "390/390 [==============================] - 11s 29ms/step - loss: 1.5901 - accuracy: 0.3738 - val_loss: 1.5733 - val_accuracy: 0.3737\n",
      "Epoch 3/15\n",
      "390/390 [==============================] - 11s 28ms/step - loss: 1.5809 - accuracy: 0.3840 - val_loss: 1.5508 - val_accuracy: 0.3816\n",
      "Epoch 4/15\n",
      "390/390 [==============================] - 11s 28ms/step - loss: 1.5876 - accuracy: 0.3749 - val_loss: 1.5810 - val_accuracy: 0.3587\n",
      "Epoch 5/15\n",
      "390/390 [==============================] - 11s 28ms/step - loss: 1.5795 - accuracy: 0.3787 - val_loss: 1.5335 - val_accuracy: 0.3954\n",
      "Epoch 6/15\n",
      "390/390 [==============================] - 11s 28ms/step - loss: 1.5681 - accuracy: 0.3838 - val_loss: 1.5320 - val_accuracy: 0.3969\n",
      "Epoch 7/15\n",
      "390/390 [==============================] - 11s 28ms/step - loss: 1.5659 - accuracy: 0.3844 - val_loss: 1.5885 - val_accuracy: 0.3546\n",
      "Epoch 8/15\n",
      "390/390 [==============================] - 11s 28ms/step - loss: 1.5768 - accuracy: 0.3779 - val_loss: 1.5646 - val_accuracy: 0.3855\n",
      "Epoch 9/15\n",
      "390/390 [==============================] - 11s 28ms/step - loss: 1.5709 - accuracy: 0.3781 - val_loss: 1.6599 - val_accuracy: 0.3292\n",
      "Epoch 10/15\n",
      "390/390 [==============================] - 11s 28ms/step - loss: 1.5699 - accuracy: 0.3825 - val_loss: 1.5720 - val_accuracy: 0.3836\n",
      "Epoch 11/15\n",
      "390/390 [==============================] - 11s 28ms/step - loss: 1.5524 - accuracy: 0.3896 - val_loss: 1.6487 - val_accuracy: 0.3372\n",
      "Epoch 12/15\n",
      "390/390 [==============================] - 11s 28ms/step - loss: 1.5676 - accuracy: 0.3858 - val_loss: 1.7137 - val_accuracy: 0.3223\n",
      "Epoch 13/15\n",
      "390/390 [==============================] - 11s 28ms/step - loss: 1.5520 - accuracy: 0.3910 - val_loss: 1.4943 - val_accuracy: 0.4071\n",
      "Epoch 14/15\n",
      "390/390 [==============================] - 11s 28ms/step - loss: 1.5525 - accuracy: 0.3940 - val_loss: 1.5820 - val_accuracy: 0.3667\n",
      "Epoch 15/15\n",
      "390/390 [==============================] - 11s 28ms/step - loss: 1.5426 - accuracy: 0.3979 - val_loss: 1.6465 - val_accuracy: 0.3295\n",
      "Epoch 1/15\n",
      "390/390 [==============================] - 13s 33ms/step - loss: 1.5144 - accuracy: 0.4052 - val_loss: 1.5171 - val_accuracy: 0.3884\n",
      "Epoch 2/15\n",
      "  5/390 [..............................] - ETA: 9s - loss: 1.4734 - accuracy: 0.381"
     ]
    },
    {
     "name": "stderr",
     "output_type": "stream",
     "text": [
      "C:\\Users\\compu\\Anaconda3\\envs\\Bdeep\\lib\\site-packages\\keras\\callbacks\\callbacks.py:707: RuntimeWarning: Can save best model only with val_acc available, skipping.\n",
      "  'skipping.' % (self.monitor), RuntimeWarning)\n"
     ]
    },
    {
     "name": "stdout",
     "output_type": "stream",
     "text": [
      "390/390 [==============================] - 11s 29ms/step - loss: 1.5008 - accuracy: 0.4055 - val_loss: 1.5016 - val_accuracy: 0.3920\n",
      "Epoch 3/15\n",
      "390/390 [==============================] - 11s 28ms/step - loss: 1.4911 - accuracy: 0.4101 - val_loss: 1.4907 - val_accuracy: 0.3912\n",
      "Epoch 4/15\n",
      "390/390 [==============================] - 11s 28ms/step - loss: 1.4971 - accuracy: 0.4077 - val_loss: 1.4897 - val_accuracy: 0.3959\n",
      "Epoch 5/15\n",
      "390/390 [==============================] - 11s 28ms/step - loss: 1.4821 - accuracy: 0.4170 - val_loss: 1.5215 - val_accuracy: 0.3822\n",
      "Epoch 6/15\n",
      "390/390 [==============================] - 11s 28ms/step - loss: 1.4850 - accuracy: 0.4135 - val_loss: 1.4728 - val_accuracy: 0.4012\n",
      "Epoch 7/15\n",
      "390/390 [==============================] - 11s 29ms/step - loss: 1.4753 - accuracy: 0.4221 - val_loss: 1.5223 - val_accuracy: 0.3846\n",
      "Epoch 8/15\n",
      "390/390 [==============================] - 11s 29ms/step - loss: 1.4740 - accuracy: 0.4264 - val_loss: 1.4925 - val_accuracy: 0.3938\n",
      "Epoch 9/15\n",
      "390/390 [==============================] - 12s 31ms/step - loss: 1.4609 - accuracy: 0.4256 - val_loss: 1.4891 - val_accuracy: 0.3979\n",
      "Epoch 10/15\n",
      "390/390 [==============================] - 12s 30ms/step - loss: 1.4777 - accuracy: 0.4257 - val_loss: 1.5158 - val_accuracy: 0.3832\n",
      "Epoch 11/15\n",
      "390/390 [==============================] - 11s 29ms/step - loss: 1.4650 - accuracy: 0.4256 - val_loss: 1.4803 - val_accuracy: 0.4031\n",
      "Epoch 12/15\n",
      "390/390 [==============================] - 11s 29ms/step - loss: 1.4518 - accuracy: 0.4329 - val_loss: 1.4769 - val_accuracy: 0.4002\n",
      "Epoch 13/15\n",
      "390/390 [==============================] - 11s 29ms/step - loss: 1.4584 - accuracy: 0.4317 - val_loss: 1.4851 - val_accuracy: 0.4021\n",
      "Epoch 14/15\n",
      "390/390 [==============================] - 11s 29ms/step - loss: 1.4544 - accuracy: 0.4304 - val_loss: 1.4636 - val_accuracy: 0.4119\n",
      "Epoch 15/15\n",
      "390/390 [==============================] - 11s 29ms/step - loss: 1.4476 - accuracy: 0.4367 - val_loss: 1.4455 - val_accuracy: 0.4246\n"
     ]
    }
   ],
   "source": [
    "#optimizer = Adam(lr= 1e-3)\n",
    "\n",
    "\n",
    "lra=[5e-3,1e-3,5e-4,1e-4]\n",
    "\n",
    "ep=15\n",
    "optimizer = Adam(lr= lra[0])\n",
    "model.compile(optimizer, loss='categorical_crossentropy', metrics=['accuracy'])\n",
    "h1=model.fit(it_train,steps_per_epoch=steps,epochs=ep, validation_data=(x_test, y_test), callbacks = [checkpoint ]) \n",
    "\n",
    "optimizer = Adam(lr= lra[1])\n",
    "model.compile(optimizer, loss='categorical_crossentropy', metrics=['accuracy'])\n",
    "h2=model.fit(it_train,steps_per_epoch=steps,epochs=ep, validation_data=(x_test, y_test), callbacks = [checkpoint ]) \n",
    "\n",
    "optimizer = Adam(lr= lra[2])\n",
    "model.compile(optimizer, loss='categorical_crossentropy', metrics=['accuracy'])\n",
    "h3=model.fit(it_train,steps_per_epoch=steps,epochs=ep, validation_data=(x_test, y_test), callbacks = [checkpoint ]) \n",
    " \n",
    "optimizer = Adam(lr= lra[3])\n",
    "model.compile(optimizer, loss='categorical_crossentropy', metrics=['accuracy'])\n",
    "h4=model.fit(it_train,steps_per_epoch=steps,epochs=ep, validation_data=(x_test, y_test), callbacks = [checkpoint ])     \n"
   ]
  },
  {
   "cell_type": "code",
   "execution_count": 11,
   "metadata": {},
   "outputs": [],
   "source": [
    "import matplotlib.pyplot as plt\n",
    "\n",
    "def plot_history(history):\n",
    "    plt.plot(history.history[\"loss\"], label=\"Training Loss\")\n",
    "    plt.plot(history.history[\"val_loss\"], label=\"Validation Loss\")\n",
    "    plt.plot(history.history[\"accuracy\"], label=\"Training Accuracy\")\n",
    "    plt.plot(history.history[\"val_accuracy\"], label=\"Validation Accuracy\")\n",
    "    plt.legend()\n",
    "    plt.grid()\n",
    "    plt.show()"
   ]
  },
  {
   "cell_type": "code",
   "execution_count": 12,
   "metadata": {},
   "outputs": [
    {
     "data": {
      "text/plain": [
       "[<matplotlib.lines.Line2D at 0x1e0398a6b48>]"
      ]
     },
     "execution_count": 12,
     "metadata": {},
     "output_type": "execute_result"
    },
    {
     "data": {
      "image/png": "[encoded data removed]",
      "text/plain": [
       "<Figure size 432x288 with 1 Axes>"
      ]
     },
     "metadata": {
      "needs_background": "light"
     },
     "output_type": "display_data"
    }
   ],
   "source": [
    " plt.plot(h3.history[\"loss\"], label=\"Training Loss\") "
   ]
  },
  {
   "cell_type": "code",
   "execution_count": 13,
   "metadata": {},
   "outputs": [
    {
     "data": {
      "text/plain": [
       "[<matplotlib.lines.Line2D at 0x1e035141748>]"
      ]
     },
     "execution_count": 13,
     "metadata": {},
     "output_type": "execute_result"
    },
    {
     "data": {
      "image/png": "[encoded data removed]",
      "text/plain": [
       "<Figure size 432x288 with 1 Axes>"
      ]
     },
     "metadata": {
      "needs_background": "light"
     },
     "output_type": "display_data"
    }
   ],
   "source": [
    " plt.plot(h4.history[\"loss\"], label=\"Training Loss\")"
   ]
  },
  {
   "cell_type": "code",
   "execution_count": 14,
   "metadata": {},
   "outputs": [
    {
     "data": {
      "text/plain": [
       "[<matplotlib.lines.Line2D at 0x1e0351be088>]"
      ]
     },
     "execution_count": 14,
     "metadata": {},
     "output_type": "execute_result"
    },
    {
     "data": {
      "image/png": "[encoded data removed]",
      "text/plain": [
       "<Figure size 432x288 with 1 Axes>"
      ]
     },
     "metadata": {
      "needs_background": "light"
     },
     "output_type": "display_data"
    }
   ],
   "source": [
    "plt.plot(h2.history[\"loss\"], label=\"Training Loss\")"
   ]
  },
  {
   "cell_type": "code",
   "execution_count": 15,
   "metadata": {},
   "outputs": [
    {
     "data": {
      "text/plain": [
       "[<matplotlib.lines.Line2D at 0x1e0350f23c8>]"
      ]
     },
     "execution_count": 15,
     "metadata": {},
     "output_type": "execute_result"
    },
    {
     "data": {
      "image/png": "[encoded data removed]",
      "text/plain": [
       "<Figure size 432x288 with 1 Axes>"
      ]
     },
     "metadata": {
      "needs_background": "light"
     },
     "output_type": "display_data"
    }
   ],
   "source": [
    " plt.plot(h1.history[\"loss\"], label=\"Training Loss\")"
   ]
  },
  {
   "cell_type": "code",
   "execution_count": 16,
   "metadata": {},
   "outputs": [],
   "source": [
    "l1 = np.array(h1.history[\"loss\"]) \n",
    "l2 = np.array(h2.history[\"loss\"]) \n",
    "l3 = np.array(h3.history[\"loss\"]) \n",
    "l4 = np.array(h4.history[\"loss\"]) "
   ]
  },
  {
   "cell_type": "code",
   "execution_count": 17,
   "metadata": {},
   "outputs": [],
   "source": [
    "min_curve = []\n",
    "max_curve = []\n",
    "for i in range(len(l1)):\n",
    "    min_curve.append(np.min([l1[i], l2[i], l3[i], l4[i]]))\n",
    "    max_curve.append(np.max([l1[i], l2[i], l3[i], l4[i]]))"
   ]
  },
  {
   "cell_type": "code",
   "execution_count": 18,
   "metadata": {},
   "outputs": [
    {
     "data": {
      "text/plain": [
       "<matplotlib.collections.PolyCollection at 0x1e034fbaec8>"
      ]
     },
     "execution_count": 18,
     "metadata": {},
     "output_type": "execute_result"
    },
    {
     "data": {
      "image/png": "[encoded data removed]",
      "text/plain": [
       "<Figure size 1080x720 with 1 Axes>"
      ]
     },
     "metadata": {
      "needs_background": "light"
     },
     "output_type": "display_data"
    }
   ],
   "source": [
    "plt.figure(figsize=(15, 10))\n",
    "plt.fill_between(range(len(min_curve)), min_curve, max_curve) "
   ]
  },
  {
   "cell_type": "markdown",
   "metadata": {},
   "source": [
    "## Model With Batch_norm\n"
   ]
  },
  {
   "cell_type": "code",
   "execution_count": 19,
   "metadata": {},
   "outputs": [],
   "source": [
    "model = VGG16_BN(input_tensor=None, input_shape=x_train.shape[1:], classes=num_classes, conv_dropout=0.1, dropout=0.3, activation='relu')"
   ]
  },
  {
   "cell_type": "code",
   "execution_count": 20,
   "metadata": {},
   "outputs": [
    {
     "name": "stdout",
     "output_type": "stream",
     "text": [
      "Epoch 1/15\n",
      "390/390 [==============================] - 23s 60ms/step - loss: 2.2361 - accuracy: 0.1814 - val_loss: 3.7925 - val_accuracy: 0.1193\n",
      "Epoch 2/15\n",
      "  3/390 [..............................] - ETA: 16s - loss: 2.0568 - accuracy: 0.1719"
     ]
    },
    {
     "name": "stderr",
     "output_type": "stream",
     "text": [
      "C:\\Users\\compu\\Anaconda3\\envs\\Bdeep\\lib\\site-packages\\keras\\callbacks\\callbacks.py:707: RuntimeWarning: Can save best model only with val_acc available, skipping.\n",
      "  'skipping.' % (self.monitor), RuntimeWarning)\n"
     ]
    },
    {
     "name": "stdout",
     "output_type": "stream",
     "text": [
      "390/390 [==============================] - 19s 49ms/step - loss: 2.0396 - accuracy: 0.2051 - val_loss: 3.4050 - val_accuracy: 0.1882\n",
      "Epoch 3/15\n",
      "390/390 [==============================] - 19s 49ms/step - loss: 1.9111 - accuracy: 0.2606 - val_loss: 1.8120 - val_accuracy: 0.2813\n",
      "Epoch 4/15\n",
      "390/390 [==============================] - 19s 49ms/step - loss: 1.7200 - accuracy: 0.3428 - val_loss: 1.5976 - val_accuracy: 0.3798\n",
      "Epoch 5/15\n",
      "390/390 [==============================] - 19s 49ms/step - loss: 1.6353 - accuracy: 0.3760 - val_loss: 1.6652 - val_accuracy: 0.3543\n",
      "Epoch 6/15\n",
      "390/390 [==============================] - 19s 49ms/step - loss: 1.5189 - accuracy: 0.4271 - val_loss: 1.6024 - val_accuracy: 0.4248\n",
      "Epoch 7/15\n",
      "390/390 [==============================] - 19s 49ms/step - loss: 1.4281 - accuracy: 0.4727 - val_loss: 1.4844 - val_accuracy: 0.4494\n",
      "Epoch 8/15\n",
      "390/390 [==============================] - 19s 49ms/step - loss: 1.3438 - accuracy: 0.5191 - val_loss: 1.4885 - val_accuracy: 0.4698\n",
      "Epoch 9/15\n",
      "390/390 [==============================] - 19s 49ms/step - loss: 1.2408 - accuracy: 0.5613 - val_loss: 1.3014 - val_accuracy: 0.5480\n",
      "Epoch 10/15\n",
      "390/390 [==============================] - 19s 49ms/step - loss: 1.1828 - accuracy: 0.5855 - val_loss: 1.1737 - val_accuracy: 0.5911\n",
      "Epoch 11/15\n",
      "390/390 [==============================] - 19s 49ms/step - loss: 1.1023 - accuracy: 0.6171 - val_loss: 1.1982 - val_accuracy: 0.5954\n",
      "Epoch 12/15\n",
      "390/390 [==============================] - 19s 49ms/step - loss: 1.0634 - accuracy: 0.6365 - val_loss: 1.0195 - val_accuracy: 0.6494\n",
      "Epoch 13/15\n",
      "390/390 [==============================] - 19s 49ms/step - loss: 1.0091 - accuracy: 0.6589 - val_loss: 1.0778 - val_accuracy: 0.6403\n",
      "Epoch 14/15\n",
      "390/390 [==============================] - 19s 49ms/step - loss: 0.9766 - accuracy: 0.6669 - val_loss: 1.1878 - val_accuracy: 0.6220\n",
      "Epoch 15/15\n",
      "390/390 [==============================] - 19s 49ms/step - loss: 0.9333 - accuracy: 0.6859 - val_loss: 0.8751 - val_accuracy: 0.7084\n",
      "Epoch 1/15\n",
      "390/390 [==============================] - 24s 62ms/step - loss: 0.8175 - accuracy: 0.7284 - val_loss: 0.7927 - val_accuracy: 0.7271\n",
      "Epoch 2/15\n",
      "  3/390 [..............................] - ETA: 17s - loss: 0.8767 - accuracy: 0.7135"
     ]
    },
    {
     "name": "stderr",
     "output_type": "stream",
     "text": [
      "C:\\Users\\compu\\Anaconda3\\envs\\Bdeep\\lib\\site-packages\\keras\\callbacks\\callbacks.py:707: RuntimeWarning: Can save best model only with val_acc available, skipping.\n",
      "  'skipping.' % (self.monitor), RuntimeWarning)\n"
     ]
    },
    {
     "name": "stdout",
     "output_type": "stream",
     "text": [
      "390/390 [==============================] - 20s 50ms/step - loss: 0.7662 - accuracy: 0.7450 - val_loss: 0.8166 - val_accuracy: 0.7218\n",
      "Epoch 3/15\n",
      "390/390 [==============================] - 19s 50ms/step - loss: 0.7510 - accuracy: 0.7480 - val_loss: 0.6886 - val_accuracy: 0.7656\n",
      "Epoch 4/15\n",
      "390/390 [==============================] - 19s 50ms/step - loss: 0.7470 - accuracy: 0.7525 - val_loss: 0.6627 - val_accuracy: 0.7761\n",
      "Epoch 5/15\n",
      "390/390 [==============================] - 19s 50ms/step - loss: 0.7265 - accuracy: 0.7612 - val_loss: 0.7156 - val_accuracy: 0.7560\n",
      "Epoch 6/15\n",
      "390/390 [==============================] - 19s 50ms/step - loss: 0.7184 - accuracy: 0.7631 - val_loss: 0.6370 - val_accuracy: 0.7878\n",
      "Epoch 7/15\n",
      "390/390 [==============================] - 20s 50ms/step - loss: 0.7057 - accuracy: 0.7667 - val_loss: 0.6469 - val_accuracy: 0.7816\n",
      "Epoch 8/15\n",
      "390/390 [==============================] - 20s 50ms/step - loss: 0.6859 - accuracy: 0.7737 - val_loss: 0.7149 - val_accuracy: 0.7587\n",
      "Epoch 9/15\n",
      "390/390 [==============================] - 20s 51ms/step - loss: 0.6838 - accuracy: 0.7728 - val_loss: 0.7040 - val_accuracy: 0.7696\n",
      "Epoch 10/15\n",
      "390/390 [==============================] - 20s 50ms/step - loss: 0.6687 - accuracy: 0.7785 - val_loss: 0.6518 - val_accuracy: 0.7859\n",
      "Epoch 11/15\n",
      "390/390 [==============================] - 20s 50ms/step - loss: 0.6513 - accuracy: 0.7864 - val_loss: 0.6150 - val_accuracy: 0.7945\n",
      "Epoch 12/15\n",
      "390/390 [==============================] - 19s 49ms/step - loss: 0.6582 - accuracy: 0.7831 - val_loss: 0.6337 - val_accuracy: 0.7929\n",
      "Epoch 13/15\n",
      "390/390 [==============================] - 19s 50ms/step - loss: 0.6414 - accuracy: 0.7862 - val_loss: 0.6690 - val_accuracy: 0.7826\n",
      "Epoch 14/15\n",
      "390/390 [==============================] - 19s 49ms/step - loss: 0.6377 - accuracy: 0.7897 - val_loss: 0.6279 - val_accuracy: 0.7901\n",
      "Epoch 15/15\n",
      "390/390 [==============================] - 19s 47ms/step - loss: 0.6284 - accuracy: 0.7949 - val_loss: 0.6554 - val_accuracy: 0.7763\n",
      "Epoch 1/15\n",
      "390/390 [==============================] - 23s 58ms/step - loss: 0.6057 - accuracy: 0.8022 - val_loss: 0.6587 - val_accuracy: 0.7841\n",
      "Epoch 2/15\n",
      "  3/390 [..............................] - ETA: 16s - loss: 0.4611 - accuracy: 0.8802"
     ]
    },
    {
     "name": "stderr",
     "output_type": "stream",
     "text": [
      "C:\\Users\\compu\\Anaconda3\\envs\\Bdeep\\lib\\site-packages\\keras\\callbacks\\callbacks.py:707: RuntimeWarning: Can save best model only with val_acc available, skipping.\n",
      "  'skipping.' % (self.monitor), RuntimeWarning)\n"
     ]
    },
    {
     "name": "stdout",
     "output_type": "stream",
     "text": [
      "390/390 [==============================] - 19s 48ms/step - loss: 0.5946 - accuracy: 0.8033 - val_loss: 0.5990 - val_accuracy: 0.7996\n",
      "Epoch 3/15\n",
      "390/390 [==============================] - 19s 48ms/step - loss: 0.5898 - accuracy: 0.8041 - val_loss: 0.6109 - val_accuracy: 0.7978\n",
      "Epoch 4/15\n",
      "390/390 [==============================] - 19s 47ms/step - loss: 0.5778 - accuracy: 0.8123 - val_loss: 0.6450 - val_accuracy: 0.7912\n",
      "Epoch 5/15\n",
      "390/390 [==============================] - 19s 48ms/step - loss: 0.5889 - accuracy: 0.8082 - val_loss: 0.5634 - val_accuracy: 0.8130\n",
      "Epoch 6/15\n",
      "390/390 [==============================] - 19s 48ms/step - loss: 0.5705 - accuracy: 0.8127 - val_loss: 0.6448 - val_accuracy: 0.7899\n",
      "Epoch 7/15\n",
      "390/390 [==============================] - 19s 48ms/step - loss: 0.5506 - accuracy: 0.8214 - val_loss: 0.5755 - val_accuracy: 0.8139\n",
      "Epoch 8/15\n",
      "390/390 [==============================] - 19s 48ms/step - loss: 0.5642 - accuracy: 0.8148 - val_loss: 0.6068 - val_accuracy: 0.8012\n",
      "Epoch 9/15\n",
      "390/390 [==============================] - 19s 48ms/step - loss: 0.5578 - accuracy: 0.8187 - val_loss: 0.5654 - val_accuracy: 0.8143\n",
      "Epoch 10/15\n",
      "390/390 [==============================] - 19s 47ms/step - loss: 0.5661 - accuracy: 0.8139 - val_loss: 0.5979 - val_accuracy: 0.8054\n",
      "Epoch 11/15\n",
      "390/390 [==============================] - 19s 48ms/step - loss: 0.5419 - accuracy: 0.8235 - val_loss: 0.6121 - val_accuracy: 0.8015\n",
      "Epoch 12/15\n",
      "390/390 [==============================] - 19s 48ms/step - loss: 0.5510 - accuracy: 0.8203 - val_loss: 0.5459 - val_accuracy: 0.8199\n",
      "Epoch 13/15\n",
      "390/390 [==============================] - 19s 48ms/step - loss: 0.5349 - accuracy: 0.8242 - val_loss: 0.5725 - val_accuracy: 0.8129\n",
      "Epoch 14/15\n",
      "390/390 [==============================] - 19s 48ms/step - loss: 0.5425 - accuracy: 0.8211 - val_loss: 0.5524 - val_accuracy: 0.8210\n",
      "Epoch 15/15\n",
      "390/390 [==============================] - 19s 47ms/step - loss: 0.5336 - accuracy: 0.8244 - val_loss: 0.5945 - val_accuracy: 0.8084\n",
      "Epoch 1/15\n",
      "390/390 [==============================] - 23s 59ms/step - loss: 0.5236 - accuracy: 0.8286 - val_loss: 0.5941 - val_accuracy: 0.8091\n",
      "Epoch 2/15\n",
      "  3/390 [..............................] - ETA: 16s - loss: 0.5364 - accuracy: 0.8073"
     ]
    },
    {
     "name": "stderr",
     "output_type": "stream",
     "text": [
      "C:\\Users\\compu\\Anaconda3\\envs\\Bdeep\\lib\\site-packages\\keras\\callbacks\\callbacks.py:707: RuntimeWarning: Can save best model only with val_acc available, skipping.\n",
      "  'skipping.' % (self.monitor), RuntimeWarning)\n"
     ]
    },
    {
     "name": "stdout",
     "output_type": "stream",
     "text": [
      "390/390 [==============================] - 19s 48ms/step - loss: 0.5008 - accuracy: 0.8375 - val_loss: 0.5737 - val_accuracy: 0.8136\n",
      "Epoch 3/15\n",
      "390/390 [==============================] - 19s 48ms/step - loss: 0.5001 - accuracy: 0.8357 - val_loss: 0.5677 - val_accuracy: 0.8156\n",
      "Epoch 4/15\n",
      "390/390 [==============================] - 19s 48ms/step - loss: 0.5113 - accuracy: 0.8313 - val_loss: 0.5856 - val_accuracy: 0.8109\n",
      "Epoch 5/15\n",
      "390/390 [==============================] - 19s 49ms/step - loss: 0.5012 - accuracy: 0.8375 - val_loss: 0.5917 - val_accuracy: 0.8087\n",
      "Epoch 6/15\n",
      "390/390 [==============================] - 19s 48ms/step - loss: 0.5083 - accuracy: 0.8320 - val_loss: 0.5759 - val_accuracy: 0.8155\n",
      "Epoch 7/15\n",
      "390/390 [==============================] - 19s 48ms/step - loss: 0.5014 - accuracy: 0.8361 - val_loss: 0.5588 - val_accuracy: 0.8176\n",
      "Epoch 8/15\n",
      "390/390 [==============================] - 19s 48ms/step - loss: 0.4999 - accuracy: 0.8349 - val_loss: 0.5709 - val_accuracy: 0.8156\n",
      "Epoch 9/15\n",
      "390/390 [==============================] - 19s 48ms/step - loss: 0.5025 - accuracy: 0.8355 - val_loss: 0.5662 - val_accuracy: 0.8166\n",
      "Epoch 10/15\n",
      "390/390 [==============================] - 19s 48ms/step - loss: 0.5099 - accuracy: 0.8340 - val_loss: 0.5801 - val_accuracy: 0.8132\n",
      "Epoch 11/15\n",
      "390/390 [==============================] - 19s 48ms/step - loss: 0.4954 - accuracy: 0.8369 - val_loss: 0.5613 - val_accuracy: 0.8188\n",
      "Epoch 12/15\n",
      "390/390 [==============================] - 19s 48ms/step - loss: 0.4907 - accuracy: 0.8400 - val_loss: 0.5623 - val_accuracy: 0.8182\n",
      "Epoch 13/15\n",
      "390/390 [==============================] - 19s 49ms/step - loss: 0.4972 - accuracy: 0.8387 - val_loss: 0.5827 - val_accuracy: 0.8146\n",
      "Epoch 14/15\n",
      "390/390 [==============================] - 19s 49ms/step - loss: 0.4919 - accuracy: 0.8393 - val_loss: 0.5743 - val_accuracy: 0.8160\n",
      "Epoch 15/15\n",
      "390/390 [==============================] - 19s 48ms/step - loss: 0.4845 - accuracy: 0.8431 - val_loss: 0.5846 - val_accuracy: 0.8147\n"
     ]
    }
   ],
   "source": [
    "#optimizer = Adam(lr= 1e-3)\n",
    "\n",
    "\n",
    "lra=[5e-3,1e-3,5e-4,1e-4]\n",
    "\n",
    "ep=15\n",
    "optimizer = Adam(lr= lra[0])\n",
    "model.compile(optimizer, loss='categorical_crossentropy', metrics=['accuracy'])\n",
    "hb1=model.fit(it_train,steps_per_epoch=steps,epochs=ep, validation_data=(x_test, y_test), callbacks = [checkpoint ]) \n",
    "\n",
    "optimizer = Adam(lr= lra[1])\n",
    "model.compile(optimizer, loss='categorical_crossentropy', metrics=['accuracy'])\n",
    "hb2=model.fit(it_train,steps_per_epoch=steps,epochs=ep, validation_data=(x_test, y_test), callbacks = [checkpoint ]) \n",
    "\n",
    "optimizer = Adam(lr= lra[2])\n",
    "model.compile(optimizer, loss='categorical_crossentropy', metrics=['accuracy'])\n",
    "hb3=model.fit(it_train,steps_per_epoch=steps,epochs=ep, validation_data=(x_test, y_test), callbacks = [checkpoint ]) \n",
    " \n",
    "optimizer = Adam(lr= lra[3])\n",
    "model.compile(optimizer, loss='categorical_crossentropy', metrics=['accuracy'])\n",
    "hb4=model.fit(it_train,steps_per_epoch=steps,epochs=ep, validation_data=(x_test, y_test), callbacks = [checkpoint ])     \n"
   ]
  },
  {
   "cell_type": "code",
   "execution_count": 21,
   "metadata": {},
   "outputs": [],
   "source": [
    "lb1 = np.array(hb1.history[\"loss\"]) \n",
    "lb2 = np.array(hb2.history[\"loss\"]) \n",
    "lb3 = np.array(hb3.history[\"loss\"]) \n",
    "lb4 = np.array(hb4.history[\"loss\"]) "
   ]
  },
  {
   "cell_type": "code",
   "execution_count": 22,
   "metadata": {},
   "outputs": [],
   "source": [
    "min_curveb = []\n",
    "max_curveb = []\n",
    "for i in range(len(lb1)):\n",
    "    min_curveb.append(np.min([lb1[i], lb2[i], lb3[i], lb4[i]]))\n",
    "    max_curveb.append(np.max([lb1[i], lb2[i], lb3[i], lb4[i]]))"
   ]
  },
  {
   "cell_type": "code",
   "execution_count": 23,
   "metadata": {},
   "outputs": [
    {
     "data": {
      "text/plain": [
       "<matplotlib.collections.PolyCollection at 0x1e08d621ec8>"
      ]
     },
     "execution_count": 23,
     "metadata": {},
     "output_type": "execute_result"
    },
    {
     "data": {
      "image/png": "[encoded data removed]",
      "text/plain": [
       "<Figure size 1080x720 with 1 Axes>"
      ]
     },
     "metadata": {
      "needs_background": "light"
     },
     "output_type": "display_data"
    }
   ],
   "source": [
    "plt.figure(figsize=(15, 10))\n",
    "plt.fill_between(range(len(min_curveb)), min_curveb, max_curveb) "
   ]
  },
  {
   "cell_type": "code",
   "execution_count": 52,
   "metadata": {},
   "outputs": [
    {
     "name": "stderr",
     "output_type": "stream",
     "text": [
      "C:\\Users\\compu\\Anaconda3\\envs\\Bdeep\\lib\\site-packages\\ipykernel_launcher.py:19: MatplotlibDeprecationWarning: savefig() got unexpected keyword argument \"quality\" which is no longer supported as of 3.3 and will become an error two minor releases later\n"
     ]
    },
    {
     "data": {
      "image/png": "[encoded data removed]",
      "text/plain": [
       "<Figure size 1080x720 with 1 Axes>"
      ]
     },
     "metadata": {
      "needs_background": "light"
     },
     "output_type": "display_data"
    }
   ],
   "source": [
    "figures_path='fig/'\n",
    "step = 1\n",
    "steps = np.arange(0, len(min_curve), step)\n",
    "plt.figure(figsize=(15, 10))\n",
    "plt.fill_between(steps, min_curve[::step], max_curve[::step],\n",
    "                alpha=.81, color='C3', label='Standard VGG')\n",
    "plt.plot(steps, min_curve[::step], color='C3')\n",
    "plt.plot(steps, max_curve[::step], color='C3')\n",
    "\n",
    "plt.fill_between(steps, min_curveb[::step], max_curveb[::step],\n",
    "                alpha=0.5, color='C2', label='Standard VGG + BatchNorm')\n",
    "plt.plot(steps, min_curveb[::step], color='C2')\n",
    "plt.plot(steps, max_curveb[::step], color='C2')\n",
    "\n",
    "plt.legend(fontsize=19)\n",
    "plt.title('Loss Landscape', fontsize=20)\n",
    "plt.ylabel('Loss Landscape', fontsize=13)\n",
    "plt.xlabel('Steps', fontsize=13)\n",
    "plt.savefig(os.path.join(figures_path, 'loss_landscape.png'), dpi=500, quality=100)\n",
    "plt.show()"
   ]
  },
  {
   "cell_type": "code",
   "execution_count": null,
   "metadata": {},
   "outputs": [],
   "source": []
  }
 ],
 "metadata": {
  "kernelspec": {
   "display_name": "Python [conda env:Bdeep] *",
   "language": "python",
   "name": "conda-env-Bdeep-py"
  },
  "language_info": {
   "codemirror_mode": {
    "name": "ipython",
    "version": 3
   },
   "file_extension": ".py",
   "mimetype": "text/x-python",
   "name": "python",
   "nbconvert_exporter": "python",
   "pygments_lexer": "ipython3",
   "version": "3.7.9"
  }
 },
 "nbformat": 4,
 "nbformat_minor": 4
}
